{
 "cells": [
  {
   "cell_type": "markdown",
   "metadata": {},
   "source": [
    "# Pre-processing Climate Data\n",
    "\n",
    "### Obtained from http://agebb.missouri.edu/weather/history/index.asp\n",
    "\n",
    "Steps:\n",
    "\n",
    "1. Right click on the webpage and save the data as .xlsx file\n",
    "2. Open the file and remove any unwanted rows\n",
    "3. Now, follow the below steps"
   ]
  },
  {
   "cell_type": "code",
   "execution_count": null,
   "metadata": {},
   "outputs": [],
   "source": [
    "import pandas as pd\n",
    "import random\n",
    "import xlsxwriter"
   ]
  },
  {
   "cell_type": "code",
   "execution_count": 55,
   "metadata": {},
   "outputs": [],
   "source": [
    "random.seed(1)\n",
    "\n",
    "# Hourly data starting September 9, 2018 ---> July 1, 2020\n",
    "\n",
    "df = pd.read_excel ('data.xlsx')\n",
    "cols = df.columns\n",
    "data = df.values.tolist()"
   ]
  },
  {
   "cell_type": "code",
   "execution_count": 56,
   "metadata": {
    "scrolled": false
   },
   "outputs": [],
   "source": [
    "# Splitting data and converting it to float\n",
    "\n",
    "split_data = [x[0].split() for x in data]\n",
    "\n",
    "result =[]\n",
    "for sublist in split_data:\n",
    "    float_sublist = []\n",
    "    for x in sublist:\n",
    "        float_sublist.append(float(x))\n",
    "    result.append(float_sublist)"
   ]
  },
  {
   "cell_type": "code",
   "execution_count": 57,
   "metadata": {},
   "outputs": [],
   "source": [
    "# Removing the columns regarding data & time , i.e ---> the first four elements\n",
    "# We are removing the first element of each row 4 times\n",
    "\n",
    "for row in result:\n",
    "    del row[0]\n",
    "    del row[0]\n",
    "    del row[0]\n",
    "    del row[0]\n",
    "    "
   ]
  },
  {
   "cell_type": "code",
   "execution_count": 58,
   "metadata": {},
   "outputs": [],
   "source": [
    "# Save data to excel for further analysis\n",
    "\n",
    "df1 = pd.DataFrame(result,columns=['temperature', 'precipitation', 'humidity'])\n",
    "df1.to_excel(\"output.xlsx\")"
   ]
  }
 ],
 "metadata": {
  "kernelspec": {
   "display_name": "Python 3",
   "language": "python",
   "name": "python3"
  },
  "language_info": {
   "codemirror_mode": {
    "name": "ipython",
    "version": 3
   },
   "file_extension": ".py",
   "mimetype": "text/x-python",
   "name": "python",
   "nbconvert_exporter": "python",
   "pygments_lexer": "ipython3",
   "version": "3.7.1"
  }
 },
 "nbformat": 4,
 "nbformat_minor": 2
}
